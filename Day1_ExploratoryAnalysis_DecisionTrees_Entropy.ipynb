{
  "nbformat": 4,
  "nbformat_minor": 0,
  "metadata": {
    "kernelspec": {
      "display_name": "Python 3",
      "language": "python",
      "name": "python3"
    },
    "language_info": {
      "codemirror_mode": {
        "name": "ipython",
        "version": 3
      },
      "file_extension": ".py",
      "mimetype": "text/x-python",
      "name": "python",
      "nbconvert_exporter": "python",
      "pygments_lexer": "ipython3",
      "version": "3.7.4"
    },
    "colab": {
      "name": "Day1-ExploratoryAnalysis-DecisionTrees-Entropy.ipynb",
      "provenance": []
    }
  },
  "cells": [
    {
      "cell_type": "code",
      "metadata": {
        "id": "l9KPx8C4uM4m"
      },
      "source": [
        "import math\n",
        "import pandas as pd\n",
        "import numpy as np\n",
        "import calendar\n",
        "import statsmodels.formula.api as smf\n",
        "import matplotlib.pyplot as plt\n",
        "from scipy import stats\n",
        "from matplotlib import dates\n",
        "from datetime import datetime\n",
        "\n",
        "from sklearn.metrics import accuracy_score, precision_score, recall_score, cohen_kappa_score, confusion_matrix, mutual_info_score\n",
        "from sklearn.linear_model import LogisticRegression\n",
        "from sklearn.tree import DecisionTreeClassifier\n",
        "from sklearn import tree\n",
        "from sklearn.model_selection import train_test_split"
      ],
      "execution_count": null,
      "outputs": []
    },
    {
      "cell_type": "markdown",
      "metadata": {
        "id": "0AvshOZduS_V"
      },
      "source": [
        "# Downloading the Dataset\n"
      ]
    },
    {
      "cell_type": "markdown",
      "metadata": {
        "id": "qxnTy1zpua83"
      },
      "source": [
        "We can execute linux terminal commands in python by starting the statement with a '!' \n",
        "\n",
        "This allows us to download data, clone repositories on GitHub, and much more. In this example, we use the wget command to download our data to a file called bikeshare_train.csv. We can check the files tab in the expandable side menu after running the cell to check the data visually. \n",
        "\n",
        "For this course, we will do all of this for you, but if you are interested in learning more about how to use linux commands, the wget command, and how to use wget with files hosted on google drive, you can check out these resources. You may notice that the documentation is very long, but don't be afraid because you don't need to worry about 99% of the stuff in there! I've also tagged on a useful cheatsheet so you can format these markdown boxes easily.\n",
        "\n",
        "*  [common linux commands](https://www.dummies.com/computers/operating-systems/linux/common-linux-commands/)\n",
        "*  [wget documentation](https://www.computerhope.com/unix/wget.htm)\n",
        "*  [using wget with google drive](https://medium.com/@acpanjan/download-google-drive-files-using-wget-3c2c025a8b99)\n",
        "*  [nifty markdown cheat sheet](https://github.com/adam-p/markdown-here/wiki/Markdown-Cheatsheet)\n",
        "\n",
        "It can be difficult to get used to linux commands at first, but they can definitely help accelerate and scale your workflow in the long run (plus using them makes you feel super smart)\n"
      ]
    },
    {
      "cell_type": "code",
      "metadata": {
        "id": "cykN9K8r47eV",
        "outputId": "82e5b4ca-d64b-4cd3-a7f0-57a2425ddb95",
        "colab": {
          "base_uri": "https://localhost:8080/",
          "height": 306
        }
      },
      "source": [
        "!wget --no-check-certificate 'https://docs.google.com/uc?export=download&id=0B5qTk6DHjanhY2ZaOENiUnROQVZld1lQVXNVNzh0dnZodFdJ' -O bikeshare_train.csv"
      ],
      "execution_count": null,
      "outputs": [
        {
          "output_type": "stream",
          "text": [
            "--2020-01-24 01:46:30--  https://docs.google.com/uc?export=download&id=0B5qTk6DHjanhY2ZaOENiUnROQVZld1lQVXNVNzh0dnZodFdJ\n",
            "Resolving docs.google.com (docs.google.com)... 172.217.203.102, 172.217.203.138, 172.217.203.139, ...\n",
            "Connecting to docs.google.com (docs.google.com)|172.217.203.102|:443... connected.\n",
            "HTTP request sent, awaiting response... 302 Moved Temporarily\n",
            "Location: https://doc-0s-5c-docs.googleusercontent.com/docs/securesc/ha0ro937gcuc7l7deffksulhg5h7mbp1/7v1t2292k3lkdme0ladm9st24i8it4dk/1579824000000/09819396713149841370/*/0B5qTk6DHjanhY2ZaOENiUnROQVZld1lQVXNVNzh0dnZodFdJ?e=download [following]\n",
            "Warning: wildcards not supported in HTTP.\n",
            "--2020-01-24 01:46:36--  https://doc-0s-5c-docs.googleusercontent.com/docs/securesc/ha0ro937gcuc7l7deffksulhg5h7mbp1/7v1t2292k3lkdme0ladm9st24i8it4dk/1579824000000/09819396713149841370/*/0B5qTk6DHjanhY2ZaOENiUnROQVZld1lQVXNVNzh0dnZodFdJ?e=download\n",
            "Resolving doc-0s-5c-docs.googleusercontent.com (doc-0s-5c-docs.googleusercontent.com)... 172.217.203.132, 2607:f8b0:400c:c07::84\n",
            "Connecting to doc-0s-5c-docs.googleusercontent.com (doc-0s-5c-docs.googleusercontent.com)|172.217.203.132|:443... connected.\n",
            "HTTP request sent, awaiting response... 200 OK\n",
            "Length: 648353 (633K) [text/csv]\n",
            "Saving to: ‘bikeshare_train.csv’\n",
            "\n",
            "bikeshare_train.csv 100%[===================>] 633.16K  --.-KB/s    in 0.005s  \n",
            "\n",
            "2020-01-24 01:46:36 (119 MB/s) - ‘bikeshare_train.csv’ saved [648353/648353]\n",
            "\n"
          ],
          "name": "stdout"
        }
      ]
    },
    {
      "cell_type": "markdown",
      "metadata": {
        "id": "eCZrhodduM4r"
      },
      "source": [
        "# Bikeshare Data: Exploratory Data Analysis\n",
        "\n",
        "This weekend's examples will mostly be drawn from the Capital Bikeshare dataset from Washington, DC over 2 years. Each row of the dataset represents one hour of that time period, gives features about the weather including temperature, humidity, and windspeed, then includes rider activity as a variable to predict (total number of trips that were initiated in that hour)."
      ]
    },
    {
      "cell_type": "code",
      "metadata": {
        "id": "FDn5iP7NuM4s",
        "outputId": "4b85fc1d-38d6-4d02-fb8e-d9504c7b642d",
        "colab": {
          "base_uri": "https://localhost:8080/",
          "height": 204
        }
      },
      "source": [
        "bikeshare = pd.read_csv(\"bikeshare_train.csv\") \n",
        "bikeshare.head()"
      ],
      "execution_count": null,
      "outputs": [
        {
          "output_type": "execute_result",
          "data": {
            "text/html": [
              "<div>\n",
              "<style scoped>\n",
              "    .dataframe tbody tr th:only-of-type {\n",
              "        vertical-align: middle;\n",
              "    }\n",
              "\n",
              "    .dataframe tbody tr th {\n",
              "        vertical-align: top;\n",
              "    }\n",
              "\n",
              "    .dataframe thead th {\n",
              "        text-align: right;\n",
              "    }\n",
              "</style>\n",
              "<table border=\"1\" class=\"dataframe\">\n",
              "  <thead>\n",
              "    <tr style=\"text-align: right;\">\n",
              "      <th></th>\n",
              "      <th>datetime</th>\n",
              "      <th>season</th>\n",
              "      <th>holiday</th>\n",
              "      <th>workingday</th>\n",
              "      <th>weather</th>\n",
              "      <th>temp</th>\n",
              "      <th>atemp</th>\n",
              "      <th>humidity</th>\n",
              "      <th>windspeed</th>\n",
              "      <th>casual</th>\n",
              "      <th>registered</th>\n",
              "      <th>count</th>\n",
              "    </tr>\n",
              "  </thead>\n",
              "  <tbody>\n",
              "    <tr>\n",
              "      <th>0</th>\n",
              "      <td>2011-01-01 00:00:00</td>\n",
              "      <td>1</td>\n",
              "      <td>0</td>\n",
              "      <td>0</td>\n",
              "      <td>1</td>\n",
              "      <td>9.84</td>\n",
              "      <td>14.395</td>\n",
              "      <td>81</td>\n",
              "      <td>0.0</td>\n",
              "      <td>3</td>\n",
              "      <td>13</td>\n",
              "      <td>16</td>\n",
              "    </tr>\n",
              "    <tr>\n",
              "      <th>1</th>\n",
              "      <td>2011-01-01 01:00:00</td>\n",
              "      <td>1</td>\n",
              "      <td>0</td>\n",
              "      <td>0</td>\n",
              "      <td>1</td>\n",
              "      <td>9.02</td>\n",
              "      <td>13.635</td>\n",
              "      <td>80</td>\n",
              "      <td>0.0</td>\n",
              "      <td>8</td>\n",
              "      <td>32</td>\n",
              "      <td>40</td>\n",
              "    </tr>\n",
              "    <tr>\n",
              "      <th>2</th>\n",
              "      <td>2011-01-01 02:00:00</td>\n",
              "      <td>1</td>\n",
              "      <td>0</td>\n",
              "      <td>0</td>\n",
              "      <td>1</td>\n",
              "      <td>9.02</td>\n",
              "      <td>13.635</td>\n",
              "      <td>80</td>\n",
              "      <td>0.0</td>\n",
              "      <td>5</td>\n",
              "      <td>27</td>\n",
              "      <td>32</td>\n",
              "    </tr>\n",
              "    <tr>\n",
              "      <th>3</th>\n",
              "      <td>2011-01-01 03:00:00</td>\n",
              "      <td>1</td>\n",
              "      <td>0</td>\n",
              "      <td>0</td>\n",
              "      <td>1</td>\n",
              "      <td>9.84</td>\n",
              "      <td>14.395</td>\n",
              "      <td>75</td>\n",
              "      <td>0.0</td>\n",
              "      <td>3</td>\n",
              "      <td>10</td>\n",
              "      <td>13</td>\n",
              "    </tr>\n",
              "    <tr>\n",
              "      <th>4</th>\n",
              "      <td>2011-01-01 04:00:00</td>\n",
              "      <td>1</td>\n",
              "      <td>0</td>\n",
              "      <td>0</td>\n",
              "      <td>1</td>\n",
              "      <td>9.84</td>\n",
              "      <td>14.395</td>\n",
              "      <td>75</td>\n",
              "      <td>0.0</td>\n",
              "      <td>0</td>\n",
              "      <td>1</td>\n",
              "      <td>1</td>\n",
              "    </tr>\n",
              "  </tbody>\n",
              "</table>\n",
              "</div>"
            ],
            "text/plain": [
              "              datetime  season  holiday  ...  casual  registered  count\n",
              "0  2011-01-01 00:00:00       1        0  ...       3          13     16\n",
              "1  2011-01-01 01:00:00       1        0  ...       8          32     40\n",
              "2  2011-01-01 02:00:00       1        0  ...       5          27     32\n",
              "3  2011-01-01 03:00:00       1        0  ...       3          10     13\n",
              "4  2011-01-01 04:00:00       1        0  ...       0           1      1\n",
              "\n",
              "[5 rows x 12 columns]"
            ]
          },
          "metadata": {
            "tags": []
          },
          "execution_count": 3
        }
      ]
    },
    {
      "cell_type": "markdown",
      "metadata": {
        "id": "qB19Q8YDuM4v"
      },
      "source": [
        "## Preprocessing\n",
        "\n",
        "We have two main tasks to complete when cleaning up this data and making it ready for machine learning. "
      ]
    },
    {
      "cell_type": "markdown",
      "metadata": {
        "id": "F8EOA_huyUdO"
      },
      "source": [
        "### 1. Date/Time Features\n",
        "The first is converting the timestamp to individual features for things like the day of week, hour, and month. We also want a matplotlib-compatible column for timestamps to be plotted in our graphs.\n",
        "\n",
        "One problem with the \"month\" variable in a timestamp is that it's numeric. A `12` value is as far away as possible from a `1` value, but in practice they're actually very similar! To fix this, for months and weekdays we create additional variables (using the `calendar` library) to create nominal string variables."
      ]
    },
    {
      "cell_type": "code",
      "metadata": {
        "id": "jxP9HNbfuM4w"
      },
      "source": [
        "bikeshare[\"date_objs\"] = bikeshare[\"datetime\"].apply(lambda x: datetime.strptime(x, '%Y-%m-%d %H:%M:%S'))"
      ],
      "execution_count": null,
      "outputs": []
    },
    {
      "cell_type": "code",
      "metadata": {
        "id": "hEf8VSy9uM4z"
      },
      "source": [
        "bikeshare[\"hour\"] = bikeshare[\"date_objs\"].apply(lambda x: x.hour)\n",
        "bikeshare[\"day\"] = bikeshare[\"date_objs\"].apply(lambda x: x.day)\n",
        "bikeshare[\"month\"] = bikeshare[\"date_objs\"].apply(lambda x: x.month)\n",
        "bikeshare[\"year\"] = bikeshare[\"date_objs\"].apply(lambda x: x.year)\n",
        "bikeshare[\"weekday\"] = bikeshare[\"date_objs\"].apply(lambda x: x.weekday())\n",
        "bikeshare[\"plot_time\"] = bikeshare[\"datetime\"].apply(dates.datestr2num)\n",
        "\n",
        "bikeshare[\"month_str\"] = bikeshare[\"month\"].apply(lambda x: calendar.month_name[x])\n",
        "bikeshare[\"weekday_str\"] = bikeshare[\"weekday\"].apply(lambda x: calendar.day_name[x])"
      ],
      "execution_count": null,
      "outputs": []
    },
    {
      "cell_type": "code",
      "metadata": {
        "scrolled": true,
        "id": "09tFXQDJuM42",
        "outputId": "d9a9a670-8d40-4295-8e83-fb864e20bcea",
        "colab": {
          "base_uri": "https://localhost:8080/",
          "height": 419
        }
      },
      "source": [
        "bikeshare.loc[:, [\"weekday\", \"weekday_str\"]]"
      ],
      "execution_count": null,
      "outputs": [
        {
          "output_type": "execute_result",
          "data": {
            "text/html": [
              "<div>\n",
              "<style scoped>\n",
              "    .dataframe tbody tr th:only-of-type {\n",
              "        vertical-align: middle;\n",
              "    }\n",
              "\n",
              "    .dataframe tbody tr th {\n",
              "        vertical-align: top;\n",
              "    }\n",
              "\n",
              "    .dataframe thead th {\n",
              "        text-align: right;\n",
              "    }\n",
              "</style>\n",
              "<table border=\"1\" class=\"dataframe\">\n",
              "  <thead>\n",
              "    <tr style=\"text-align: right;\">\n",
              "      <th></th>\n",
              "      <th>weekday</th>\n",
              "      <th>weekday_str</th>\n",
              "    </tr>\n",
              "  </thead>\n",
              "  <tbody>\n",
              "    <tr>\n",
              "      <th>0</th>\n",
              "      <td>5</td>\n",
              "      <td>Saturday</td>\n",
              "    </tr>\n",
              "    <tr>\n",
              "      <th>1</th>\n",
              "      <td>5</td>\n",
              "      <td>Saturday</td>\n",
              "    </tr>\n",
              "    <tr>\n",
              "      <th>2</th>\n",
              "      <td>5</td>\n",
              "      <td>Saturday</td>\n",
              "    </tr>\n",
              "    <tr>\n",
              "      <th>3</th>\n",
              "      <td>5</td>\n",
              "      <td>Saturday</td>\n",
              "    </tr>\n",
              "    <tr>\n",
              "      <th>4</th>\n",
              "      <td>5</td>\n",
              "      <td>Saturday</td>\n",
              "    </tr>\n",
              "    <tr>\n",
              "      <th>...</th>\n",
              "      <td>...</td>\n",
              "      <td>...</td>\n",
              "    </tr>\n",
              "    <tr>\n",
              "      <th>10881</th>\n",
              "      <td>2</td>\n",
              "      <td>Wednesday</td>\n",
              "    </tr>\n",
              "    <tr>\n",
              "      <th>10882</th>\n",
              "      <td>2</td>\n",
              "      <td>Wednesday</td>\n",
              "    </tr>\n",
              "    <tr>\n",
              "      <th>10883</th>\n",
              "      <td>2</td>\n",
              "      <td>Wednesday</td>\n",
              "    </tr>\n",
              "    <tr>\n",
              "      <th>10884</th>\n",
              "      <td>2</td>\n",
              "      <td>Wednesday</td>\n",
              "    </tr>\n",
              "    <tr>\n",
              "      <th>10885</th>\n",
              "      <td>2</td>\n",
              "      <td>Wednesday</td>\n",
              "    </tr>\n",
              "  </tbody>\n",
              "</table>\n",
              "<p>10886 rows × 2 columns</p>\n",
              "</div>"
            ],
            "text/plain": [
              "       weekday weekday_str\n",
              "0            5    Saturday\n",
              "1            5    Saturday\n",
              "2            5    Saturday\n",
              "3            5    Saturday\n",
              "4            5    Saturday\n",
              "...        ...         ...\n",
              "10881        2   Wednesday\n",
              "10882        2   Wednesday\n",
              "10883        2   Wednesday\n",
              "10884        2   Wednesday\n",
              "10885        2   Wednesday\n",
              "\n",
              "[10886 rows x 2 columns]"
            ]
          },
          "metadata": {
            "tags": []
          },
          "execution_count": 6
        }
      ]
    },
    {
      "cell_type": "markdown",
      "metadata": {
        "id": "rwBkmM3BuM47"
      },
      "source": [
        "### 2. Prediction Variable\n",
        "\n",
        "Next, we want to convert this data into having a binary prediction variable, based on whether it will be a high-activity or low-activity day. For simplicity's sake we will treat the median as the dividing line for these labels."
      ]
    },
    {
      "cell_type": "code",
      "metadata": {
        "id": "1l36zhe1uM48",
        "outputId": "9d734779-8ca8-4890-af99-ccfd8b403f41",
        "colab": {
          "base_uri": "https://localhost:8080/",
          "height": 170
        }
      },
      "source": [
        "bikeshare[\"count\"].describe()"
      ],
      "execution_count": null,
      "outputs": [
        {
          "output_type": "execute_result",
          "data": {
            "text/plain": [
              "count    10886.000000\n",
              "mean       191.574132\n",
              "std        181.144454\n",
              "min          1.000000\n",
              "25%         42.000000\n",
              "50%        145.000000\n",
              "75%        284.000000\n",
              "max        977.000000\n",
              "Name: count, dtype: float64"
            ]
          },
          "metadata": {
            "tags": []
          },
          "execution_count": 7
        }
      ]
    },
    {
      "cell_type": "code",
      "metadata": {
        "id": "IlkZFUn8uM4_",
        "outputId": "b2ccf48f-4971-4c22-c1ab-131dbb9f938a",
        "colab": {
          "base_uri": "https://localhost:8080/",
          "height": 204
        }
      },
      "source": [
        "bikeshare[\"high_traffic\"] = bikeshare[\"count\"] > 145\n",
        "bikeshare.head()"
      ],
      "execution_count": null,
      "outputs": [
        {
          "output_type": "execute_result",
          "data": {
            "text/html": [
              "<div>\n",
              "<style scoped>\n",
              "    .dataframe tbody tr th:only-of-type {\n",
              "        vertical-align: middle;\n",
              "    }\n",
              "\n",
              "    .dataframe tbody tr th {\n",
              "        vertical-align: top;\n",
              "    }\n",
              "\n",
              "    .dataframe thead th {\n",
              "        text-align: right;\n",
              "    }\n",
              "</style>\n",
              "<table border=\"1\" class=\"dataframe\">\n",
              "  <thead>\n",
              "    <tr style=\"text-align: right;\">\n",
              "      <th></th>\n",
              "      <th>datetime</th>\n",
              "      <th>season</th>\n",
              "      <th>holiday</th>\n",
              "      <th>workingday</th>\n",
              "      <th>weather</th>\n",
              "      <th>temp</th>\n",
              "      <th>atemp</th>\n",
              "      <th>humidity</th>\n",
              "      <th>windspeed</th>\n",
              "      <th>casual</th>\n",
              "      <th>registered</th>\n",
              "      <th>count</th>\n",
              "      <th>date_objs</th>\n",
              "      <th>hour</th>\n",
              "      <th>day</th>\n",
              "      <th>month</th>\n",
              "      <th>year</th>\n",
              "      <th>weekday</th>\n",
              "      <th>plot_time</th>\n",
              "      <th>month_str</th>\n",
              "      <th>weekday_str</th>\n",
              "      <th>high_traffic</th>\n",
              "    </tr>\n",
              "  </thead>\n",
              "  <tbody>\n",
              "    <tr>\n",
              "      <th>0</th>\n",
              "      <td>2011-01-01 00:00:00</td>\n",
              "      <td>1</td>\n",
              "      <td>0</td>\n",
              "      <td>0</td>\n",
              "      <td>1</td>\n",
              "      <td>9.84</td>\n",
              "      <td>14.395</td>\n",
              "      <td>81</td>\n",
              "      <td>0.0</td>\n",
              "      <td>3</td>\n",
              "      <td>13</td>\n",
              "      <td>16</td>\n",
              "      <td>2011-01-01 00:00:00</td>\n",
              "      <td>0</td>\n",
              "      <td>1</td>\n",
              "      <td>1</td>\n",
              "      <td>2011</td>\n",
              "      <td>5</td>\n",
              "      <td>734138.000000</td>\n",
              "      <td>January</td>\n",
              "      <td>Saturday</td>\n",
              "      <td>False</td>\n",
              "    </tr>\n",
              "    <tr>\n",
              "      <th>1</th>\n",
              "      <td>2011-01-01 01:00:00</td>\n",
              "      <td>1</td>\n",
              "      <td>0</td>\n",
              "      <td>0</td>\n",
              "      <td>1</td>\n",
              "      <td>9.02</td>\n",
              "      <td>13.635</td>\n",
              "      <td>80</td>\n",
              "      <td>0.0</td>\n",
              "      <td>8</td>\n",
              "      <td>32</td>\n",
              "      <td>40</td>\n",
              "      <td>2011-01-01 01:00:00</td>\n",
              "      <td>1</td>\n",
              "      <td>1</td>\n",
              "      <td>1</td>\n",
              "      <td>2011</td>\n",
              "      <td>5</td>\n",
              "      <td>734138.041667</td>\n",
              "      <td>January</td>\n",
              "      <td>Saturday</td>\n",
              "      <td>False</td>\n",
              "    </tr>\n",
              "    <tr>\n",
              "      <th>2</th>\n",
              "      <td>2011-01-01 02:00:00</td>\n",
              "      <td>1</td>\n",
              "      <td>0</td>\n",
              "      <td>0</td>\n",
              "      <td>1</td>\n",
              "      <td>9.02</td>\n",
              "      <td>13.635</td>\n",
              "      <td>80</td>\n",
              "      <td>0.0</td>\n",
              "      <td>5</td>\n",
              "      <td>27</td>\n",
              "      <td>32</td>\n",
              "      <td>2011-01-01 02:00:00</td>\n",
              "      <td>2</td>\n",
              "      <td>1</td>\n",
              "      <td>1</td>\n",
              "      <td>2011</td>\n",
              "      <td>5</td>\n",
              "      <td>734138.083333</td>\n",
              "      <td>January</td>\n",
              "      <td>Saturday</td>\n",
              "      <td>False</td>\n",
              "    </tr>\n",
              "    <tr>\n",
              "      <th>3</th>\n",
              "      <td>2011-01-01 03:00:00</td>\n",
              "      <td>1</td>\n",
              "      <td>0</td>\n",
              "      <td>0</td>\n",
              "      <td>1</td>\n",
              "      <td>9.84</td>\n",
              "      <td>14.395</td>\n",
              "      <td>75</td>\n",
              "      <td>0.0</td>\n",
              "      <td>3</td>\n",
              "      <td>10</td>\n",
              "      <td>13</td>\n",
              "      <td>2011-01-01 03:00:00</td>\n",
              "      <td>3</td>\n",
              "      <td>1</td>\n",
              "      <td>1</td>\n",
              "      <td>2011</td>\n",
              "      <td>5</td>\n",
              "      <td>734138.125000</td>\n",
              "      <td>January</td>\n",
              "      <td>Saturday</td>\n",
              "      <td>False</td>\n",
              "    </tr>\n",
              "    <tr>\n",
              "      <th>4</th>\n",
              "      <td>2011-01-01 04:00:00</td>\n",
              "      <td>1</td>\n",
              "      <td>0</td>\n",
              "      <td>0</td>\n",
              "      <td>1</td>\n",
              "      <td>9.84</td>\n",
              "      <td>14.395</td>\n",
              "      <td>75</td>\n",
              "      <td>0.0</td>\n",
              "      <td>0</td>\n",
              "      <td>1</td>\n",
              "      <td>1</td>\n",
              "      <td>2011-01-01 04:00:00</td>\n",
              "      <td>4</td>\n",
              "      <td>1</td>\n",
              "      <td>1</td>\n",
              "      <td>2011</td>\n",
              "      <td>5</td>\n",
              "      <td>734138.166667</td>\n",
              "      <td>January</td>\n",
              "      <td>Saturday</td>\n",
              "      <td>False</td>\n",
              "    </tr>\n",
              "  </tbody>\n",
              "</table>\n",
              "</div>"
            ],
            "text/plain": [
              "              datetime  season  holiday  ...  month_str  weekday_str  high_traffic\n",
              "0  2011-01-01 00:00:00       1        0  ...    January     Saturday         False\n",
              "1  2011-01-01 01:00:00       1        0  ...    January     Saturday         False\n",
              "2  2011-01-01 02:00:00       1        0  ...    January     Saturday         False\n",
              "3  2011-01-01 03:00:00       1        0  ...    January     Saturday         False\n",
              "4  2011-01-01 04:00:00       1        0  ...    January     Saturday         False\n",
              "\n",
              "[5 rows x 22 columns]"
            ]
          },
          "metadata": {
            "tags": []
          },
          "execution_count": 8
        }
      ]
    },
    {
      "cell_type": "markdown",
      "metadata": {
        "id": "92pF0O_yuM5C"
      },
      "source": [
        "## Sanity Checks\n",
        "\n",
        "First we'll do some evaluation to make sure that the dataset we're working with makes sense."
      ]
    },
    {
      "cell_type": "code",
      "metadata": {
        "scrolled": false,
        "id": "G8yWgKGLuM5D",
        "outputId": "8c7cbce4-3266-4ee8-9327-949dc2d66eea",
        "colab": {
          "base_uri": "https://localhost:8080/",
          "height": 265
        }
      },
      "source": [
        "plt.scatter(bikeshare[\"plot_time\"], bikeshare[\"count\"], s=1, c=bikeshare[\"temp\"])\n",
        "plt.show()"
      ],
      "execution_count": null,
      "outputs": [
        {
          "output_type": "display_data",
          "data": {
            "image/png": "[encoded data removed]",
            "text/plain": [
              "<Figure size 432x288 with 1 Axes>"
            ]
          },
          "metadata": {
            "tags": []
          }
        }
      ]
    },
    {
      "cell_type": "code",
      "metadata": {
        "scrolled": false,
        "id": "44ew-_pguM5G",
        "outputId": "dda3acf4-5e66-40a7-8052-b8f17c40f490",
        "colab": {
          "base_uri": "https://localhost:8080/",
          "height": 265
        }
      },
      "source": [
        "bikeshare_lows = bikeshare.loc[bikeshare[\"high_traffic\"] == False]\n",
        "bikeshare_highs = bikeshare.loc[bikeshare[\"high_traffic\"] == True]\n",
        "\n",
        "plt.boxplot([bikeshare_lows[\"temp\"], bikeshare_highs[\"temp\"]])\n",
        "plt.xticks([1,2], [\"Low Traffic\", \"High Traffic\"])\n",
        "plt.show()"
      ],
      "execution_count": null,
      "outputs": [
        {
          "output_type": "display_data",
          "data": {
            "image/png": "[encoded data removed]",
            "text/plain": [
              "<Figure size 432x288 with 1 Axes>"
            ]
          },
          "metadata": {
            "tags": []
          }
        }
      ]
    },
    {
      "cell_type": "markdown",
      "metadata": {
        "id": "5r4ZEdVuuM5K"
      },
      "source": [
        "Let's make a quick convenience function to be able to plot differences in values for a variety of different possible features."
      ]
    },
    {
      "cell_type": "code",
      "metadata": {
        "id": "Mi-y84jsuM5M",
        "outputId": "418f3bc3-35ef-4647-ab2f-97e9803f79a9",
        "colab": {
          "base_uri": "https://localhost:8080/",
          "height": 282
        }
      },
      "source": [
        "def boxplot_values(df, target_column, feature_column):\n",
        "    vals = df[feature_column].unique()\n",
        "    subsets = []\n",
        "    for v in vals:\n",
        "        subsets.append(df.loc[df[feature_column] == v][target_column])\n",
        "    print(len(subsets))\n",
        "    plt.boxplot(subsets)\n",
        "    plt.xticks(np.arange(1, len(vals)+1), vals)\n",
        "boxplot_values(bikeshare, \"temp\", \"high_traffic\")"
      ],
      "execution_count": null,
      "outputs": [
        {
          "output_type": "stream",
          "text": [
            "2\n"
          ],
          "name": "stdout"
        },
        {
          "output_type": "display_data",
          "data": {
            "image/png": "[encoded data removed]",
            "text/plain": [
              "<Figure size 432x288 with 1 Axes>"
            ]
          },
          "metadata": {
            "tags": []
          }
        }
      ]
    },
    {
      "cell_type": "code",
      "metadata": {
        "id": "P5-amfHJuM5P",
        "outputId": "01ba3551-e442-42b4-a62b-2f4075037b83",
        "colab": {
          "base_uri": "https://localhost:8080/",
          "height": 282
        }
      },
      "source": [
        "boxplot_values(bikeshare, \"temp\", \"month\")"
      ],
      "execution_count": null,
      "outputs": [
        {
          "output_type": "stream",
          "text": [
            "12\n"
          ],
          "name": "stdout"
        },
        {
          "output_type": "display_data",
          "data": {
            "image/png": "[encoded data removed]",
            "text/plain": [
              "<Figure size 432x288 with 1 Axes>"
            ]
          },
          "metadata": {
            "tags": []
          }
        }
      ]
    },
    {
      "cell_type": "code",
      "metadata": {
        "id": "90B5xi2buM5T",
        "outputId": "d34ecd86-b1cd-42dd-b912-4319ccc1be29",
        "colab": {
          "base_uri": "https://localhost:8080/",
          "height": 282
        }
      },
      "source": [
        "boxplot_values(bikeshare, \"count\", \"month\")"
      ],
      "execution_count": null,
      "outputs": [
        {
          "output_type": "stream",
          "text": [
            "12\n"
          ],
          "name": "stdout"
        },
        {
          "output_type": "display_data",
          "data": {
            "image/png": "[encoded data removed]",
            "text/plain": [
              "<Figure size 432x288 with 1 Axes>"
            ]
          },
          "metadata": {
            "tags": []
          }
        }
      ]
    },
    {
      "cell_type": "code",
      "metadata": {
        "scrolled": false,
        "id": "sr6syKq7uM5Z",
        "outputId": "ecb3e6dc-58ce-4bf0-c145-966c17c77778",
        "colab": {
          "base_uri": "https://localhost:8080/",
          "height": 282
        }
      },
      "source": [
        "boxplot_values(bikeshare, \"count\", \"weekday\")"
      ],
      "execution_count": null,
      "outputs": [
        {
          "output_type": "stream",
          "text": [
            "7\n"
          ],
          "name": "stdout"
        },
        {
          "output_type": "display_data",
          "data": {
            "image/png": "[encoded data removed]",
            "text/plain": [
              "<Figure size 432x288 with 1 Axes>"
            ]
          },
          "metadata": {
            "tags": []
          }
        }
      ]
    },
    {
      "cell_type": "markdown",
      "metadata": {
        "id": "NZLFnA5cuM5c"
      },
      "source": [
        "## Nominalizing the \"weather\" variable\n",
        "\n",
        "The dataset documentation gives us the following descriptions of the `weather` variable:\n",
        "\n",
        "   - 1: Clear or partly cloudy\n",
        "   - 2: Misty, cloudy, overcast\n",
        "   - 3: Light snow or rain, thunderstorms\n",
        "   - 4: Heavy snow, heavy rain thunderstorms\n",
        "   \n",
        "These are probably better treated as labeled variables than numbers. Additionally, when we look at our training data, we see that the distribution is basically missing the fourth value (were there no heavy snows in two years in Washington? We don't know). As a result, let's create a normalized, nominal variable that is a little more intuitive."
      ]
    },
    {
      "cell_type": "code",
      "metadata": {
        "scrolled": true,
        "id": "t6W3vh6puM5c",
        "outputId": "e2c0a724-515e-4d20-f01b-678cb0392c4f",
        "colab": {
          "base_uri": "https://localhost:8080/",
          "height": 102
        }
      },
      "source": [
        "bikeshare[\"weather\"].value_counts()"
      ],
      "execution_count": null,
      "outputs": [
        {
          "output_type": "execute_result",
          "data": {
            "text/plain": [
              "1    7192\n",
              "2    2834\n",
              "3     859\n",
              "4       1\n",
              "Name: weather, dtype: int64"
            ]
          },
          "metadata": {
            "tags": []
          },
          "execution_count": 15
        }
      ]
    },
    {
      "cell_type": "code",
      "metadata": {
        "scrolled": true,
        "id": "--BWybQeuM5f",
        "outputId": "e028bb8c-ef3c-463d-bf1e-9d22a1c91e6b",
        "colab": {
          "base_uri": "https://localhost:8080/",
          "height": 85
        }
      },
      "source": [
        "def weather_norm(x):\n",
        "    if x == 1:\n",
        "        return \"clear\"\n",
        "    if x == 2:\n",
        "        return \"overcast\"\n",
        "    if x > 2:\n",
        "        return \"gross\"\n",
        "    \n",
        "bikeshare[\"weather_norm\"] = bikeshare[\"weather\"].apply(weather_norm)\n",
        "bikeshare[\"weather_norm\"].value_counts()"
      ],
      "execution_count": null,
      "outputs": [
        {
          "output_type": "execute_result",
          "data": {
            "text/plain": [
              "clear       7192\n",
              "overcast    2834\n",
              "gross        860\n",
              "Name: weather_norm, dtype: int64"
            ]
          },
          "metadata": {
            "tags": []
          },
          "execution_count": 16
        }
      ]
    },
    {
      "cell_type": "code",
      "metadata": {
        "scrolled": false,
        "id": "XmE02uFeuM5h",
        "outputId": "117a95d5-7908-471d-8f66-2a6ecc7b462f",
        "colab": {
          "base_uri": "https://localhost:8080/",
          "height": 282
        }
      },
      "source": [
        "boxplot_values(bikeshare, \"count\", \"weather_norm\")"
      ],
      "execution_count": null,
      "outputs": [
        {
          "output_type": "stream",
          "text": [
            "3\n"
          ],
          "name": "stdout"
        },
        {
          "output_type": "display_data",
          "data": {
            "image/png": "[encoded data removed]",
            "text/plain": [
              "<Figure size 432x288 with 1 Axes>"
            ]
          },
          "metadata": {
            "tags": []
          }
        }
      ]
    },
    {
      "cell_type": "markdown",
      "metadata": {
        "id": "8cNrFTBZuM5j"
      },
      "source": [
        "# Building a decision tree by hand\n",
        "\n",
        "A [Decision Tree](https://medium.com/greyatom/decision-trees-a-simple-way-to-visualize-a-decision-dc506a403aeb) is a flowchart-like structure in which each node represents a \"test\" on the input and each edge represents the result of the previous test. By following the tree, we can perform classification tasks on a dataset. \n",
        "\n",
        "![alt text](https://miro.medium.com/max/301/0*QctkHiOX2G2pvfD_.jpg)\n",
        "\n",
        "It's actually quite possible for us to build up a decision tree entirely manually - after all, they are only a series of if/then statements. Let's see how we can do if we just try to build one based on intuition alone.\n",
        "\n",
        "How would we do that? One way is to first try to build a tree based on guessing."
      ]
    },
    {
      "cell_type": "markdown",
      "metadata": {
        "id": "Y2KhnvKf4EJb"
      },
      "source": [
        "## Decision tree based on guessing"
      ]
    },
    {
      "cell_type": "code",
      "metadata": {
        "id": "jYTw_Am4uM5k",
        "outputId": "aa46ba3f-25e2-40a3-e061-2c907fd1039f",
        "colab": {
          "base_uri": "https://localhost:8080/",
          "height": 85
        }
      },
      "source": [
        "def manual_decision_tree(row):\n",
        "    if row[\"weather_norm\"] == \"clear\":\n",
        "        if row[\"month\"] > 3:\n",
        "            if row[\"month\"] < 12:\n",
        "                return True\n",
        "            else:\n",
        "                return False\n",
        "        else:\n",
        "            return False\n",
        "    elif row[\"month\"] > 5:\n",
        "        if row[\"month\"] < 10:\n",
        "            return True\n",
        "        else:\n",
        "            return False\n",
        "    else:\n",
        "        return False\n",
        "\n",
        "bikeshare[\"manual_coding\"] = bikeshare.apply(manual_decision_tree, axis=1)\n",
        "print(bikeshare[\"manual_coding\"].value_counts())\n",
        "\n",
        "predictions = bikeshare[\"manual_coding\"]\n",
        "actual = bikeshare[\"high_traffic\"]\n",
        "\n",
        "manual_accuracy = 100*accuracy_score(predictions, actual)\n",
        "print(f\"Manual coding got {manual_accuracy:.1f}% accuracy.\")"
      ],
      "execution_count": null,
      "outputs": [
        {
          "output_type": "stream",
          "text": [
            "True     5938\n",
            "False    4948\n",
            "Name: manual_coding, dtype: int64\n",
            "Manual coding got 61.5% accuracy.\n"
          ],
          "name": "stdout"
        }
      ]
    },
    {
      "cell_type": "markdown",
      "metadata": {
        "id": "3NbpyVZm4Iml"
      },
      "source": [
        "## Decision tree by carefully picking a feature\n"
      ]
    },
    {
      "cell_type": "markdown",
      "metadata": {
        "id": "6YJGBRxHuM5m"
      },
      "source": [
        "But we're mostly shooting in the dark here. It would be really nice to be able to test individual features to see which ones will be helpful for us."
      ]
    },
    {
      "cell_type": "code",
      "metadata": {
        "id": "4m-VyBwOuM5n",
        "outputId": "db29dd6c-8b0d-46c5-ad62-c61f4b418b5a",
        "colab": {
          "base_uri": "https://localhost:8080/",
          "height": 272
        }
      },
      "source": [
        "def split_on_feature(df, column):\n",
        "    for label in df[column].unique():\n",
        "        matched_rows = df.loc[df[column] == label]\n",
        "        counts = matched_rows[\"high_traffic\"].value_counts()\n",
        "        counts = 100 * counts / len(matched_rows)\n",
        "        print(label)\n",
        "        print(counts)\n",
        "        print(\"-----\")\n",
        "\n",
        "split_on_feature(bikeshare, \"weather_norm\")"
      ],
      "execution_count": null,
      "outputs": [
        {
          "output_type": "stream",
          "text": [
            "clear\n",
            "True     53.225806\n",
            "False    46.774194\n",
            "Name: high_traffic, dtype: float64\n",
            "-----\n",
            "overcast\n",
            "False    52.081863\n",
            "True     47.918137\n",
            "Name: high_traffic, dtype: float64\n",
            "-----\n",
            "gross\n",
            "False    71.162791\n",
            "True     28.837209\n",
            "Name: high_traffic, dtype: float64\n",
            "-----\n"
          ],
          "name": "stdout"
        }
      ]
    },
    {
      "cell_type": "code",
      "metadata": {
        "id": "bjCnRJU8uM5q",
        "outputId": "e856d9a6-0588-4b44-8051-d24830deb3eb",
        "colab": {
          "base_uri": "https://localhost:8080/",
          "height": 1000
        }
      },
      "source": [
        "split_on_feature(bikeshare, \"hour\")"
      ],
      "execution_count": null,
      "outputs": [
        {
          "output_type": "stream",
          "text": [
            "0\n",
            "False    94.505495\n",
            "True      5.494505\n",
            "Name: high_traffic, dtype: float64\n",
            "-----\n",
            "1\n",
            "False    99.339207\n",
            "True      0.660793\n",
            "Name: high_traffic, dtype: float64\n",
            "-----\n",
            "2\n",
            "False    100.0\n",
            "Name: high_traffic, dtype: float64\n",
            "-----\n",
            "3\n",
            "False    100.0\n",
            "Name: high_traffic, dtype: float64\n",
            "-----\n",
            "4\n",
            "False    100.0\n",
            "Name: high_traffic, dtype: float64\n",
            "-----\n",
            "5\n",
            "False    100.0\n",
            "Name: high_traffic, dtype: float64\n",
            "-----\n",
            "6\n",
            "False    88.351648\n",
            "True     11.648352\n",
            "Name: high_traffic, dtype: float64\n",
            "-----\n",
            "7\n",
            "True     56.483516\n",
            "False    43.516484\n",
            "Name: high_traffic, dtype: float64\n",
            "-----\n",
            "8\n",
            "True     73.406593\n",
            "False    26.593407\n",
            "Name: high_traffic, dtype: float64\n",
            "-----\n",
            "9\n",
            "True     78.241758\n",
            "False    21.758242\n",
            "Name: high_traffic, dtype: float64\n",
            "-----\n",
            "10\n",
            "True     51.648352\n",
            "False    48.351648\n",
            "Name: high_traffic, dtype: float64\n",
            "-----\n",
            "11\n",
            "True     64.835165\n",
            "False    35.164835\n",
            "Name: high_traffic, dtype: float64\n",
            "-----\n",
            "12\n",
            "True     78.72807\n",
            "False    21.27193\n",
            "Name: high_traffic, dtype: float64\n",
            "-----\n",
            "13\n",
            "True     76.973684\n",
            "False    23.026316\n",
            "Name: high_traffic, dtype: float64\n",
            "-----\n",
            "14\n",
            "True     73.903509\n",
            "False    26.096491\n",
            "Name: high_traffic, dtype: float64\n",
            "-----\n",
            "15\n",
            "True     77.192982\n",
            "False    22.807018\n",
            "Name: high_traffic, dtype: float64\n",
            "-----\n",
            "16\n",
            "True     83.552632\n",
            "False    16.447368\n",
            "Name: high_traffic, dtype: float64\n",
            "-----\n",
            "17\n",
            "True     93.640351\n",
            "False     6.359649\n",
            "Name: high_traffic, dtype: float64\n",
            "-----\n",
            "18\n",
            "True     91.22807\n",
            "False     8.77193\n",
            "Name: high_traffic, dtype: float64\n",
            "-----\n",
            "19\n",
            "True     82.45614\n",
            "False    17.54386\n",
            "Name: high_traffic, dtype: float64\n",
            "-----\n",
            "20\n",
            "True     73.026316\n",
            "False    26.973684\n",
            "Name: high_traffic, dtype: float64\n",
            "-----\n",
            "21\n",
            "True     61.622807\n",
            "False    38.377193\n",
            "Name: high_traffic, dtype: float64\n",
            "-----\n",
            "22\n",
            "False    57.236842\n",
            "True     42.763158\n",
            "Name: high_traffic, dtype: float64\n",
            "-----\n",
            "23\n",
            "False    85.087719\n",
            "True     14.912281\n",
            "Name: high_traffic, dtype: float64\n",
            "-----\n"
          ],
          "name": "stdout"
        }
      ]
    },
    {
      "cell_type": "markdown",
      "metadata": {
        "id": "2WOJ2XGGuM5s"
      },
      "source": [
        "With this information in hand, we can try to build a tree based on hour, and see how we do."
      ]
    },
    {
      "cell_type": "code",
      "metadata": {
        "scrolled": true,
        "id": "3yQ8t1R-uM5s",
        "outputId": "1f61ecca-5ec7-4ee9-b8d8-22315755ae88",
        "colab": {
          "base_uri": "https://localhost:8080/",
          "height": 85
        }
      },
      "source": [
        "def night_hours_tree(row):\n",
        "    if row[\"hour\"] < 6:\n",
        "        return False\n",
        "    elif row[\"hour\"] == 23:\n",
        "        return False\n",
        "    else:\n",
        "        return True\n",
        "\n",
        "bikeshare[\"day_coding\"] = bikeshare.apply(night_hours_tree, axis=1)\n",
        "print(bikeshare[\"day_coding\"].value_counts())\n",
        "\n",
        "predictions = bikeshare[\"day_coding\"]\n",
        "actual = bikeshare[\"high_traffic\"]\n",
        "\n",
        "manual_accuracy = 100*accuracy_score(predictions, actual)\n",
        "print(f\"Manual coding got {manual_accuracy:.1f}% accuracy.\")"
      ],
      "execution_count": null,
      "outputs": [
        {
          "output_type": "stream",
          "text": [
            "True     7746\n",
            "False    3140\n",
            "Name: day_coding, dtype: int64\n",
            "Manual coding got 77.0% accuracy.\n"
          ],
          "name": "stdout"
        }
      ]
    },
    {
      "cell_type": "code",
      "metadata": {
        "scrolled": true,
        "id": "gqdUt_aPuM5v",
        "outputId": "40f8361e-8468-4c3f-8e99-68686fcf4030",
        "colab": {
          "base_uri": "https://localhost:8080/",
          "height": 272
        }
      },
      "source": [
        "daytime_df = bikeshare.loc[bikeshare.day_coding == True]\n",
        "split_on_feature(daytime_df, \"weather_norm\")"
      ],
      "execution_count": null,
      "outputs": [
        {
          "output_type": "stream",
          "text": [
            "clear\n",
            "True     73.365949\n",
            "False    26.634051\n",
            "Name: high_traffic, dtype: float64\n",
            "-----\n",
            "overcast\n",
            "True     66.56746\n",
            "False    33.43254\n",
            "Name: high_traffic, dtype: float64\n",
            "-----\n",
            "gross\n",
            "False    60.16129\n",
            "True     39.83871\n",
            "Name: high_traffic, dtype: float64\n",
            "-----\n"
          ],
          "name": "stdout"
        }
      ]
    },
    {
      "cell_type": "markdown",
      "metadata": {
        "id": "Xc4YMuVm4TwN"
      },
      "source": [
        "## Two Layer Decision Tree"
      ]
    },
    {
      "cell_type": "code",
      "metadata": {
        "scrolled": false,
        "id": "EgK0WotauM5x",
        "outputId": "da5c2ad3-193d-4242-8d9e-b629ba90631b",
        "colab": {
          "base_uri": "https://localhost:8080/",
          "height": 85
        }
      },
      "source": [
        "def two_layer_tree(row):\n",
        "    daytime = night_hours_tree(row)\n",
        "    if daytime:\n",
        "        if row[\"weather_norm\"] == \"gross\":\n",
        "            return False\n",
        "        else:\n",
        "            return True\n",
        "    else:\n",
        "        return False\n",
        "    \n",
        "\n",
        "bikeshare[\"two_level_tree\"] = bikeshare.apply(two_layer_tree, axis=1)\n",
        "print(bikeshare[\"two_level_tree\"].value_counts())\n",
        "\n",
        "predictions = bikeshare[\"two_level_tree\"]\n",
        "actual = bikeshare[\"high_traffic\"]\n",
        "\n",
        "manual_accuracy = 100*accuracy_score(predictions, actual)\n",
        "print(f\"Manual coding got {manual_accuracy:.1f}% accuracy.\")"
      ],
      "execution_count": null,
      "outputs": [
        {
          "output_type": "stream",
          "text": [
            "True     7126\n",
            "False    3760\n",
            "Name: two_level_tree, dtype: int64\n",
            "Manual coding got 78.2% accuracy.\n"
          ],
          "name": "stdout"
        }
      ]
    },
    {
      "cell_type": "markdown",
      "metadata": {
        "id": "tMo-H93luM5z"
      },
      "source": [
        "## Conclusions so far\n",
        "\n",
        "So with our fully manual attempts at building up logic into our bikeshare classifier, we've gotten the following results:\n",
        "\n",
        "   - Total guessing: 61.5%\n",
        "   - Choosing one highly relevant feature: 77.0%\n",
        "   - Building a two-layer tree: 78.2%\n",
        "   \n",
        "This is starting to look like an extremely tedious process to get any better results. For each branch of our tree we'd need to keep doing additional tests, figuring out which features are informative and which are not."
      ]
    },
    {
      "cell_type": "markdown",
      "metadata": {
        "id": "jHsxPffWuM50"
      },
      "source": [
        "# Information Theory\n",
        "\n",
        "We'll start by showing how you can calculate entropy for a single variable that's uniformly distributed in our dataset: the day of the week that a data instance appeared in."
      ]
    },
    {
      "cell_type": "markdown",
      "metadata": {
        "id": "u_V7O79g3EBe"
      },
      "source": [
        "## Calculating Entropy\n",
        "\n",
        "Entropy is a way that we can measure how surprising (or equivalently, how random) a random variable is. A random variable with low entropy is more predictable than a random variable with high entropy. Entropy is denoted by H(X) and is measured in bits. \n",
        "\n",
        "$$\\ H(X)= - \\sum_{x \\in X}{p(x)log(p(x))}$$\n",
        "\n",
        "1 bit of entropy is equivalent to the randomness of a flip of a fair coin (50% heads/50% tails). The probability distribution on any set with the highest entropy is the uniform distribution as there is no way to guess the outcome better than randomly guessing. "
      ]
    },
    {
      "cell_type": "code",
      "metadata": {
        "id": "q5jtWCKwuM51",
        "outputId": "c3b5db91-168b-49fb-d181-83503c650117",
        "colab": {
          "base_uri": "https://localhost:8080/",
          "height": 85
        }
      },
      "source": [
        "weekday_counts = bikeshare.groupby(\"weather_norm\").size()\n",
        "\n",
        "# Calculate probabilities for each possible label\n",
        "probabilities = {}\n",
        "for ix in weekday_counts.index:\n",
        "    value = weekday_counts[ix]\n",
        "    probability = value / len(bikeshare)\n",
        "    probabilities[ix] = probability\n",
        "    print(f\"Label {ix} probability {100*probability:.1f}%\")\n",
        "\n",
        "# Get the entropy of the weather    \n",
        "summation = 0\n",
        "for weekday in probabilities.keys():\n",
        "    probability = probabilities[weekday]\n",
        "    summation += probability * math.log2(probability)\n",
        "    \n",
        "summation = -summation\n",
        "print(f\"{summation:.3f}\")"
      ],
      "execution_count": null,
      "outputs": [
        {
          "output_type": "stream",
          "text": [
            "Label clear probability 66.1%\n",
            "Label gross probability 7.9%\n",
            "Label overcast probability 26.0%\n",
            "1.190\n"
          ],
          "name": "stdout"
        }
      ]
    },
    {
      "cell_type": "markdown",
      "metadata": {
        "id": "TIqxPQakuM53"
      },
      "source": [
        "Based on this, we can then write a more generic function that does these same calculations for any column we're interested in."
      ]
    },
    {
      "cell_type": "code",
      "metadata": {
        "id": "jS1VTuXNuM54",
        "outputId": "25f3f322-35dd-4cb6-cf4f-95a94b51578d",
        "colab": {
          "base_uri": "https://localhost:8080/",
          "height": 102
        }
      },
      "source": [
        "def calculate_probabilities(df, column_name):\n",
        "    column_counts = df.groupby(column_name).size()\n",
        "    probabilities = {}\n",
        "    for ix in column_counts.index:\n",
        "        value = column_counts[ix]\n",
        "        probability = value / len(df)\n",
        "        probabilities[ix] = probability\n",
        "    return probabilities\n",
        "\n",
        "def calculate_entropy(df, column_name):\n",
        "    # Calculate probabilities for each possible label\n",
        "    probabilities = calculate_probabilities(df, column_name)\n",
        "\n",
        "    # Sum expected values of each possible label\n",
        "    summation = 0\n",
        "    for value in probabilities.keys():\n",
        "        probability = probabilities[value]\n",
        "        summation += probability * math.log2(probability)\n",
        "    summation = -summation\n",
        "    return summation\n",
        "    \n",
        "    \n",
        "def test_entropy_function(function_to_test):\n",
        "    values = [\"weekday\", \"high_traffic\", \"hour\", \"datetime\", \"count\"]\n",
        "    for column in values:\n",
        "        print(f\"Entropy from {column}: {function_to_test(bikeshare, column):.3f}\")\n",
        "\n",
        "test_entropy_function(calculate_entropy)"
      ],
      "execution_count": null,
      "outputs": [
        {
          "output_type": "stream",
          "text": [
            "Entropy from weekday: 2.807\n",
            "Entropy from high_traffic: 1.000\n",
            "Entropy from hour: 4.585\n",
            "Entropy from datetime: 13.410\n",
            "Entropy from count: 8.877\n"
          ],
          "name": "stdout"
        }
      ]
    },
    {
      "cell_type": "markdown",
      "metadata": {
        "id": "s8QSE4FIuM55"
      },
      "source": [
        "Of course, this type of calculation is almost never something you'll want to implement yourself. Scipy has a function built-in to do the same thing for you."
      ]
    },
    {
      "cell_type": "code",
      "metadata": {
        "id": "aalCHX_FuM56",
        "outputId": "f578ea4c-1764-4c82-b45d-0fb91195aa47",
        "colab": {
          "base_uri": "https://localhost:8080/",
          "height": 102
        }
      },
      "source": [
        "def entropy_using_scipy(df, column_name):\n",
        "    probabilities = calculate_probabilities(df, column_name)\n",
        "    clean_probabilities = list(probabilities.values())\n",
        "    return stats.entropy(clean_probabilities, base=2)\n",
        "\n",
        "test_entropy_function(entropy_using_scipy)"
      ],
      "execution_count": null,
      "outputs": [
        {
          "output_type": "stream",
          "text": [
            "Entropy from weekday: 2.807\n",
            "Entropy from high_traffic: 1.000\n",
            "Entropy from hour: 4.585\n",
            "Entropy from datetime: 13.410\n",
            "Entropy from count: 8.877\n"
          ],
          "name": "stdout"
        }
      ]
    },
    {
      "cell_type": "markdown",
      "metadata": {
        "id": "QRYHWxEsuM58"
      },
      "source": [
        "## Calculating Information Gain\n",
        "\n",
        "Also known as mutual information, information gain gets its name because it quanitifes how much information about Y (in bits) we gain by knowing the value of X. We write mutual information as I(Y;X).\n",
        "\n",
        "$$\\ I(Y;X)=H(Y) - H(Y|X) $$\n",
        "\n",
        "The value H(Y|X) is called the conditional entropy of Y conditioned on X. It quantifies how surprising Y still is even after we know X.\n",
        "\n",
        "$$\\ H(Y|X) = - \\sum_{x \\in X, y \\in Y} p(x,y) log\\frac{p(x,y)}{p(x)}$$\n",
        "\n",
        "Notice that, the sum of the amount of information about Y we gain from knowing X and the entropy of Y conditioned on X is equal to the entropy of Y. This makes sense since we should not be magically gaining or losing information somewhere. "
      ]
    },
    {
      "cell_type": "code",
      "metadata": {
        "id": "sRHQgU43uM58",
        "outputId": "50791cce-7c47-4a72-c521-5b1a0d5ba591",
        "colab": {
          "base_uri": "https://localhost:8080/",
          "height": 289
        }
      },
      "source": [
        "def conditional_entropy(df, col_a, col_b):\n",
        "\n",
        "    a_probs = calculate_probabilities(df, col_a)\n",
        "    b_probs = calculate_probabilities(df, col_b)\n",
        "\n",
        "    joint_probs = {}\n",
        "    for a_val in df[col_a].unique():\n",
        "        joint_probs[a_val] = {}\n",
        "        for b_val in df[col_b].unique():\n",
        "            a_matches = df.loc[df[col_a] == a_val]\n",
        "            both_matches = a_matches.loc[a_matches[col_b] == b_val]\n",
        "            p_both = len(both_matches) / len(df)\n",
        "            joint_probs[a_val][b_val] = p_both\n",
        "            \n",
        "            \n",
        "    sum_conditional = 0\n",
        "    for b_val in df[col_b].unique():\n",
        "        p_b = b_probs[b_val]\n",
        "        \n",
        "        sum_a = 0\n",
        "        for a_val in df[col_a].unique():\n",
        "            p_both = joint_probs[a_val][b_val]\n",
        "            p_cond = 0\n",
        "            if p_b > 0 and p_both > 0:\n",
        "                p_cond = p_both / p_b\n",
        "                sum_a += p_cond * math.log2(p_cond)\n",
        "            \n",
        "        sum_a = -sum_a\n",
        "        sum_conditional += (p_b * sum_a)\n",
        "    \n",
        "    return sum_conditional\n",
        "    \n",
        "    \n",
        "def info_gain(df, col_a, col_b):\n",
        "    print(f\"Mutual Information between {col_a} and {col_b}:\")\n",
        "    initial_entropy = entropy_using_scipy(df, col_a)\n",
        "    print(f\"Initial: {initial_entropy:.3f}\")\n",
        "    conditional = conditional_entropy(df, col_a, col_b)\n",
        "    gain = initial_entropy - conditional\n",
        "    print(f\"Conditional: {conditional:.3f} Gain: {gain:.3f}\")\n",
        "    print(\"----\")\n",
        "\n",
        "info_gain(bikeshare, \"hour\", \"month\")\n",
        "info_gain(bikeshare, \"high_traffic\", \"month\")\n",
        "info_gain(bikeshare, \"high_traffic\", \"hour\")\n",
        "info_gain(bikeshare, \"high_traffic\", \"weather_norm\")"
      ],
      "execution_count": null,
      "outputs": [
        {
          "output_type": "stream",
          "text": [
            "Mutual Information between hour and month:\n",
            "Initial: 4.585\n",
            "Conditional: 4.585 Gain: 0.000\n",
            "----\n",
            "Mutual Information between high_traffic and month:\n",
            "Initial: 1.000\n",
            "Conditional: 0.944 Gain: 0.056\n",
            "----\n",
            "Mutual Information between high_traffic and hour:\n",
            "Initial: 1.000\n",
            "Conditional: 0.586 Gain: 0.414\n",
            "----\n",
            "Mutual Information between high_traffic and weather_norm:\n",
            "Initial: 1.000\n",
            "Conditional: 0.987 Gain: 0.013\n",
            "----\n"
          ],
          "name": "stdout"
        }
      ]
    },
    {
      "cell_type": "code",
      "metadata": {
        "id": "eMAilVsluM5-",
        "outputId": "469760dd-dd20-4825-a6a4-348acccb0345",
        "colab": {
          "base_uri": "https://localhost:8080/",
          "height": 34
        }
      },
      "source": [
        "# This will produce a value that's close, \n",
        "# but not quite, the same as what we calculated above\n",
        "def info_gain_using_scipy(df, column_name, conditional_column):\n",
        "    gain = mutual_info_score(df[column_name], df[conditional_column])\n",
        "    print(gain)\n",
        "    \n",
        "info_gain_using_scipy(bikeshare, \"hour\", \"month\")"
      ],
      "execution_count": null,
      "outputs": [
        {
          "output_type": "stream",
          "text": [
            "0.00022588753695368217\n"
          ],
          "name": "stdout"
        }
      ]
    },
    {
      "cell_type": "code",
      "metadata": {
        "id": "MXM10SY_QWcF",
        "outputId": "37f0afa9-0446-4a11-ea6b-a88d0ee7c1b4",
        "colab": {
          "base_uri": "https://localhost:8080/",
          "height": 204
        }
      },
      "source": [
        "# Notice that using the scipy version is over 200x faster\n",
        "%time info_gain(bikeshare, \"hour\", \"month\")\n",
        "print('\\n')\n",
        "%time info_gain_using_scipy(bikeshare, \"hour\", \"month\")"
      ],
      "execution_count": null,
      "outputs": [
        {
          "output_type": "stream",
          "text": [
            "Mutual Information between hour and month:\n",
            "Initial: 4.585\n",
            "Conditional: 4.585 Gain: 0.000\n",
            "----\n",
            "CPU times: user 690 ms, sys: 6.17 ms, total: 696 ms\n",
            "Wall time: 702 ms\n",
            "\n",
            "\n",
            "0.00022588753695368217\n",
            "CPU times: user 2.79 ms, sys: 0 ns, total: 2.79 ms\n",
            "Wall time: 2.87 ms\n"
          ],
          "name": "stdout"
        }
      ]
    },
    {
      "cell_type": "markdown",
      "metadata": {
        "id": "qlCQQPdjuM6A"
      },
      "source": [
        "# Machine Learning\n",
        "\n",
        "We can build a decision tree classifier automatically by creating splits based on the mutual information between some feature in our input and our output of interest. \n",
        "\n",
        "First off: Define a base case, datasets where there is no reason to build a tree\n",
        "- All the examples in the dataset have the same class label\n",
        "- There are not enough examples available to calculate statistics\n",
        "- I(Y;X) is almost zero for every possible feature X you have access to\n",
        "\n",
        "If none of these criteria are met, that means:\n",
        "- There’s enough data to make a split in the tree\n",
        "- There’s at least one feature that’ll make that split worthwhile.\n",
        "- So split the data (into leaf nodes) and then try again on\n",
        "\n",
        "Now we're ready to build our first classifier, a decision tree based on weather features. Below is the simplest code that will get us to a complete trained model based on data.\n"
      ]
    },
    {
      "cell_type": "markdown",
      "metadata": {
        "id": "3s2nzbbgSCAm"
      },
      "source": [
        "## Building decision trees automatically\n",
        "\n",
        "Scikit-learn comes with one implementation of decision trees that you can call in a single line of code. Here we're going to use entropy as our criterion for whether to split a leaf of a tree, though there are other equations you can use instead."
      ]
    },
    {
      "cell_type": "code",
      "metadata": {
        "id": "JSWxY7sWuM6A",
        "outputId": "64d5ae7c-5b62-409f-bb9e-4291f863501e",
        "colab": {
          "base_uri": "https://localhost:8080/",
          "height": 34
        }
      },
      "source": [
        "weather_features = [\"weather_norm\", \"temp\", \"atemp\", \"humidity\", \"windspeed\"]\n",
        "\n",
        "X = bikeshare.loc[:, weather_features]\n",
        "X = pd.get_dummies(X)\n",
        "y = bikeshare[\"high_traffic\"]\n",
        "\n",
        "model = DecisionTreeClassifier(criterion=\"entropy\").fit(X, y)\n",
        "y_pred = model.predict(X)\n",
        "\n",
        "y_matches = (y_pred == y)\n",
        "accuracy = 100 * y_matches.sum() / len(y)\n",
        "print(f\"Decision tree model achieved {accuracy:.1f}% accuracy on training data.\")"
      ],
      "execution_count": null,
      "outputs": [
        {
          "output_type": "stream",
          "text": [
            "Decision tree model achieved 89.6% accuracy on training data.\n"
          ],
          "name": "stdout"
        }
      ]
    },
    {
      "cell_type": "markdown",
      "metadata": {
        "id": "6q5pTL3PuM6C"
      },
      "source": [
        "## Evaluating which feature sets are valuable\n",
        "\n",
        "We clearly have already blown our manually created tree out of the water, in only a few lines of code and with no manual fiddling. Can we do even better by optimizing which features are included?"
      ]
    },
    {
      "cell_type": "code",
      "metadata": {
        "id": "UcDsgyBXuM6D",
        "outputId": "f6470f48-8c64-49a5-9517-30978abfd1b7",
        "colab": {
          "base_uri": "https://localhost:8080/",
          "height": 306
        }
      },
      "source": [
        "date_features = [\"day\", \"month_str\", \"year\", \"weekday_str\", \"season\", \"holiday\", \"workingday\"]\n",
        "time_features = [\"hour\"]\n",
        "weather_features = [\"weather_norm\", \"temp\", \"atemp\", \"humidity\", \"windspeed\"]\n",
        "\n",
        "feature_sets = {\n",
        "    \"date only\": date_features,\n",
        "    \"time only\": time_features,\n",
        "    \"date and time\": date_features + time_features,\n",
        "    \"weather only\": weather_features,\n",
        "    \"all features\": date_features + time_features + weather_features\n",
        "}\n",
        "\n",
        "best = 0\n",
        "best_name = None\n",
        "\n",
        "for set_name, feature_set in feature_sets.items():\n",
        "\n",
        "    X = bikeshare.loc[:, feature_set]\n",
        "    X = pd.get_dummies(X)\n",
        "\n",
        "    y = bikeshare[\"high_traffic\"]\n",
        "\n",
        "    model = DecisionTreeClassifier(criterion=\"entropy\", random_state=123).fit(X, y)\n",
        "    y_pred = model.predict(X)\n",
        "\n",
        "    y_matches = (y_pred == y)\n",
        "    accuracy = 100*accuracy_score(y, y_pred)\n",
        "    if accuracy >= best:\n",
        "        best = accuracy\n",
        "        best_name = set_name\n",
        "        \n",
        "\n",
        "    # Bookkeeping and printing for the reader (not part of the core loop)\n",
        "    print(f\"Feature set: {set_name}\")\n",
        "    print(f\"   Accuracy: {accuracy:.1f}%\")\n",
        "    print(f\"   Tree contains {model.get_n_leaves()} leaves\")\n",
        "    \n",
        "\n",
        "print(f\"Best feature set is: {best_name} \\nWith: {best:.1f}% accuracy.\")    "
      ],
      "execution_count": null,
      "outputs": [
        {
          "output_type": "stream",
          "text": [
            "Feature set: date only\n",
            "   Accuracy: 65.9%\n",
            "   Tree contains 450 leaves\n",
            "Feature set: time only\n",
            "   Accuracy: 80.8%\n",
            "   Tree contains 21 leaves\n",
            "Feature set: date and time\n",
            "   Accuracy: 100.0%\n",
            "   Tree contains 1062 leaves\n",
            "Feature set: weather only\n",
            "   Accuracy: 89.6%\n",
            "   Tree contains 3429 leaves\n",
            "Feature set: all features\n",
            "   Accuracy: 100.0%\n",
            "   Tree contains 826 leaves\n",
            "Best feature set is: all features \n",
            "With: 100.0% accuracy.\n"
          ],
          "name": "stdout"
        }
      ]
    },
    {
      "cell_type": "markdown",
      "metadata": {
        "id": "V_ZEO5gluM6F"
      },
      "source": [
        "### Presenting Feature Sets Results\n",
        "\n",
        "With the loop above, we're able to quickly see the following results:\n",
        "\n",
        "| Date | Time | Weather | Accuracy  | Tree Size |\n",
        "|------|------|---------|-----------|-----------|\n",
        "| X    |      |         | 65.9%     | 450       |\n",
        "|      | X    |         | 80.8%     | 21        |\n",
        "|      |      | X       | 100.0%    | 1062      |\n",
        "| X    | X    |         | 89.6%     | 3429      |\n",
        "| X    | X    | X       | **100.0%** | **826**  |\n"
      ]
    },
    {
      "cell_type": "markdown",
      "metadata": {
        "id": "3Olysq2IVwg6"
      },
      "source": [
        "## Constraining Tree Size\n",
        "Next question for us is, how do these results change as we constrain our tree to be smaller and more interpretable?"
      ]
    },
    {
      "cell_type": "code",
      "metadata": {
        "scrolled": true,
        "id": "1aoyQjyOuM6F",
        "outputId": "81ec269d-cad3-44bc-e7fe-002deffe9eba",
        "colab": {
          "base_uri": "https://localhost:8080/",
          "height": 272
        }
      },
      "source": [
        "def evaluate_tree(min_split, noisy=True):\n",
        "    feature_set = feature_sets[\"all features\"]\n",
        "    X = bikeshare.loc[:, feature_set]\n",
        "    X = pd.get_dummies(X)\n",
        "\n",
        "    y = bikeshare[\"high_traffic\"]\n",
        "\n",
        "    model = DecisionTreeClassifier(criterion=\"entropy\", min_samples_split=min_split, random_state=123).fit(X, y)\n",
        "    y_pred = model.predict(X)\n",
        "\n",
        "    y_matches = (y_pred == y)\n",
        "    accuracy = 100*accuracy_score(y, y_pred)\n",
        "    # Bookkeeping and printing for the reader (not part of the core loop)\n",
        "    if noisy:\n",
        "        print(f\"Feature set: {set_name}\")\n",
        "        print(f\"   Accuracy: {accuracy:.1f}%\")\n",
        "        print(f\"   Tree contains {model.get_n_leaves()} leaves\")\n",
        "    return accuracy\n",
        "    \n",
        "for minimum in [2, 5, 10, 50, 100]:\n",
        "    evaluate_tree(minimum)\n"
      ],
      "execution_count": null,
      "outputs": [
        {
          "output_type": "stream",
          "text": [
            "Feature set: all features\n",
            "   Accuracy: 100.0%\n",
            "   Tree contains 826 leaves\n",
            "Feature set: all features\n",
            "   Accuracy: 98.6%\n",
            "   Tree contains 678 leaves\n",
            "Feature set: all features\n",
            "   Accuracy: 97.0%\n",
            "   Tree contains 506 leaves\n",
            "Feature set: all features\n",
            "   Accuracy: 92.6%\n",
            "   Tree contains 194 leaves\n",
            "Feature set: all features\n",
            "   Accuracy: 90.4%\n",
            "   Tree contains 120 leaves\n"
          ],
          "name": "stdout"
        }
      ]
    },
    {
      "cell_type": "markdown",
      "metadata": {
        "id": "E81w3ZH8UNIQ"
      },
      "source": [
        "Notice how, as we increase the number of samples required to make a split, our accuracy goes down and the size of our tree also goes down. Let's see how this sort of trend progresses at a larger scale."
      ]
    },
    {
      "cell_type": "code",
      "metadata": {
        "id": "exOec0m7uM6H"
      },
      "source": [
        "# Compute the accuracies of the tree for a wide range of minimum number of samples\n",
        "# necessary for a split \n",
        "accuracies = []\n",
        "for i in range(2,1000,10):\n",
        "    accuracies.append(evaluate_tree(i, noisy=False))"
      ],
      "execution_count": null,
      "outputs": []
    },
    {
      "cell_type": "code",
      "metadata": {
        "scrolled": false,
        "id": "fOePHbyHuM6I",
        "outputId": "fd18aea6-b233-4743-db18-a47f0daa5f75",
        "colab": {
          "base_uri": "https://localhost:8080/",
          "height": 279
        }
      },
      "source": [
        "plt.scatter(range(2,1000,10), accuracies)\n",
        "plt.ylabel(\"Accuracy on Example Data\")\n",
        "plt.xlabel(\"Minimum split size (# examples)\")\n",
        "plt.show()"
      ],
      "execution_count": null,
      "outputs": [
        {
          "output_type": "display_data",
          "data": {
            "image/png": "[encoded data removed]",
            "text/plain": [
              "<Figure size 432x288 with 1 Axes>"
            ]
          },
          "metadata": {
            "tags": []
          }
        }
      ]
    },
    {
      "cell_type": "markdown",
      "metadata": {
        "id": "eRMJc5dXuM6L"
      },
      "source": [
        "# Tomorrow\n",
        "\n",
        "Tomorrow, we'll start with discussing why this kind of performance chart might have significant problems, and not represent the real-world performance of the tree. For now, enjoy your Friday!"
      ]
    }
  ]
}